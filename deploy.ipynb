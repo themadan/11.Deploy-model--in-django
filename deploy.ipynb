{
  "nbformat": 4,
  "nbformat_minor": 0,
  "metadata": {
    "colab": {
      "name": "Untitled0.ipynb",
      "provenance": []
    },
    "kernelspec": {
      "name": "python3",
      "display_name": "Python 3"
    }
  },
  "cells": [
    {
      "cell_type": "markdown",
      "metadata": {
        "id": "VgLJE6l2Pvsb",
        "colab_type": "text"
      },
      "source": [
        "* [deploy model refrence](https://www.deploymachinelearning.com/)\n",
        "* [another git](https://github.com/pplonski/my_ml_service)\n",
        "* [git](https://github.com/MexsonFernandes/Boilerplate-for-Django-ML-Model-Deployment)"
      ]
    },
    {
      "cell_type": "code",
      "metadata": {
        "id": "gLpZx8B_i5pf",
        "colab_type": "code",
        "colab": {}
      },
      "source": [
        ""
      ],
      "execution_count": 0,
      "outputs": []
    }
  ]
}